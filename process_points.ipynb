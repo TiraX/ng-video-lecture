{
 "cells": [
  {
   "cell_type": "code",
   "execution_count": null,
   "metadata": {},
   "outputs": [],
   "source": [
    "import struct\n",
    "import numpy as np\n",
    "from tqdm import tqdm"
   ]
  },
  {
   "cell_type": "code",
   "execution_count": null,
   "metadata": {},
   "outputs": [],
   "source": [
    "finput = 'points.bin'\n",
    "\n",
    "vertices = []\n",
    "\n",
    "with open(finput, 'rb') as file:\n",
    "    # Read the number of vertices\n",
    "    num_vertices = struct.unpack('i', file.read(4))[0]\n",
    "\n",
    "    # Read the vertices' coordinates\n",
    "    for _ in range(num_vertices):\n",
    "        coords = struct.unpack('fff', file.read(12))\n",
    "        vertices.append(coords)\n",
    "print(f'{num_vertices=}')\n",
    "vertices[:10]"
   ]
  },
  {
   "cell_type": "code",
   "execution_count": null,
   "metadata": {},
   "outputs": [],
   "source": [
    "finput1 = 'tris.bin'\n",
    "tris = []\n",
    "\n",
    "with open(finput1, 'rb') as file:\n",
    "    # Read the number of tris\n",
    "    num_tris = struct.unpack('i', file.read(4))[0]\n",
    "\n",
    "    # Read the triangle indices\n",
    "    for _ in range(num_tris):\n",
    "        tri = struct.unpack('iii', file.read(12))\n",
    "        tris.append(tri)\n",
    "print(f'{num_tris=}')\n",
    "tris[:100]"
   ]
  },
  {
   "cell_type": "code",
   "execution_count": null,
   "metadata": {},
   "outputs": [],
   "source": [
    "# pre process data\n",
    "pt_tris = {}\n",
    "for i in range(len(vertices)):\n",
    "    pt_tris[i] = []\n",
    "\n",
    "for t in range(len(tris)):\n",
    "    tri = tris[t]\n",
    "    pt_tris[tri[0]].append(t)\n",
    "    pt_tris[tri[1]].append(t)\n",
    "    pt_tris[tri[2]].append(t)\n",
    "\n",
    "pt_tris, len(pt_tris)"
   ]
  },
  {
   "cell_type": "code",
   "execution_count": null,
   "metadata": {},
   "outputs": [],
   "source": [
    "sorted_pts = []\n",
    "sorted_dict = {}\n",
    "\n",
    "eps = 0.05"
   ]
  },
  {
   "cell_type": "code",
   "execution_count": null,
   "metadata": {},
   "outputs": [],
   "source": [
    "def get_neibors(pt_index):\n",
    "    nbs = []\n",
    "    tri_ids = pt_tris[pt_index]\n",
    "    def is_nb(idx):\n",
    "        return idx != pt_index and idx not in nbs\n",
    "    for t in tri_ids:\n",
    "        tri = tris[t]\n",
    "        if is_nb(tri[0]):\n",
    "            nbs.append(tri[0])\n",
    "        if is_nb(tri[1]):\n",
    "            nbs.append(tri[1])\n",
    "        if is_nb(tri[2]):\n",
    "            nbs.append(tri[2])\n",
    "    return nbs\n",
    "\n",
    "def dis(pos1, pos2):\n",
    "    v = []\n",
    "    v.append(pos1[0] - pos2[0])\n",
    "    v.append(pos1[1] - pos2[1])\n",
    "    v.append(pos1[2] - pos2[2])\n",
    "    return (v[0] * v[0] + v[1] * v[1] + v[2] * v[2]) ** 0.5\n",
    "\n",
    "def sort_pts(start_index, depth):\n",
    "    if start_index in sorted_dict:\n",
    "        return\n",
    "    \n",
    "    nbs_to_try = {}\n",
    "    selected = start_index\n",
    "    while selected >= 0:\n",
    "        # mark self is selected\n",
    "        sorted_pts.append(selected)\n",
    "        sorted_dict[selected] = 1\n",
    "        print(f'{selected}, {depth} ', end='\\n', flush=True)\n",
    "        \n",
    "        nbs = get_neibors(selected)\n",
    "\n",
    "        pt_pos = vertices[selected]\n",
    "        nbs_live = []\n",
    "        nbs_dis = []\n",
    "        for nb in nbs:\n",
    "            if nb in sorted_dict:\n",
    "                continue\n",
    "\n",
    "            nb_pos = vertices[nb]\n",
    "            d = dis(pt_pos, nb_pos)\n",
    "            nbs_dis.append(d)\n",
    "            nbs_live.append(nb)\n",
    "            \n",
    "        if len(nbs_live) == 0:\n",
    "            break\n",
    "\n",
    "        nbs_live = np.array(nbs_live)\n",
    "        nbs_dis = np.array(nbs_dis)\n",
    "\n",
    "        sort_idx = np.argsort(nbs_dis)\n",
    "        nbs_live_sorted = np.take(nbs_live, sort_idx)\n",
    "        nbs_dis_sorted = np.take(nbs_dis, sort_idx)\n",
    "\n",
    "        selected = nbs_live_sorted[0]\n",
    "        if len(nbs_dis_sorted) > 1:\n",
    "            if abs(nbs_dis_sorted[1] - nbs_dis_sorted[0]) < eps:\n",
    "                nb_pos0 = vertices[nbs_live_sorted[0]]\n",
    "                nb_pos1 = vertices[nbs_live_sorted[1]]\n",
    "                selected = nbs_live_sorted[0] if nb_pos0[1] <= nb_pos1[1] else nbs_live_sorted[1]\n",
    "        \n",
    "        for nb in nbs_live_sorted:\n",
    "            if nb != selected:\n",
    "                nbs_to_try[nb] = 1\n",
    "\n",
    "    for nb, _ in nbs_to_try.items():\n",
    "        sort_pts(nb, depth + 1)\n",
    "            "
   ]
  },
  {
   "cell_type": "code",
   "execution_count": null,
   "metadata": {},
   "outputs": [],
   "source": [
    "sort_pts(0, 0)\n"
   ]
  },
  {
   "cell_type": "code",
   "execution_count": null,
   "metadata": {},
   "outputs": [],
   "source": [
    "with open('$HIP/outputs.bin', 'wb') as f:\n",
    "    f.write(struct.pack('i', len(sorted_pts))) \n",
    "    for pt in sorted_pts:\n",
    "        f.write(struct.pack('i', pt))"
   ]
  }
 ],
 "metadata": {
  "kernelspec": {
   "display_name": "Python 3",
   "language": "python",
   "name": "python3"
  },
  "language_info": {
   "codemirror_mode": {
    "name": "ipython",
    "version": 3
   },
   "file_extension": ".py",
   "mimetype": "text/x-python",
   "name": "python",
   "nbconvert_exporter": "python",
   "pygments_lexer": "ipython3",
   "version": "3.10.10"
  },
  "orig_nbformat": 4
 },
 "nbformat": 4,
 "nbformat_minor": 2
}
